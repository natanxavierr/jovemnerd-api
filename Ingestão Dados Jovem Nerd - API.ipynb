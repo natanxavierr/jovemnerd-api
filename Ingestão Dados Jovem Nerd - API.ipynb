{
 "cells": [
  {
   "cell_type": "code",
   "execution_count": 0,
   "metadata": {
    "application/vnd.databricks.v1+cell": {
     "cellMetadata": {
      "byteLimit": 2048000,
      "rowLimit": 10000
     },
     "inputWidgets": {},
     "nuid": "59f291de-3507-4fca-ad69-ef3a546175ba",
     "showTitle": true,
     "tableResultSettingsMap": {},
     "title": "Requests API Paginação"
    }
   },
   "outputs": [],
   "source": [
    "%python\n",
    "import requests\n",
    "import pandas as pd\n",
    "import datetime\n",
    "import json\n",
    "import time\n",
    "\n",
    "## A classe Collector no seu código é uma estrutura que encapsula a lógica de coleta, processamento e armazenamento de dados de uma API. Ela permite organizar o código de forma modular e reutilizável.\n",
    "\n",
    "class Collector:\n",
    "    \n",
    "    def __init__(self, url, instance_name):\n",
    "        self.url = url  # Define a URL base da API\n",
    "        self.instance_name = instance_name  # Nome da instância coletora\n",
    "\n",
    "    def get_content(self, **kwargs):\n",
    "        resp = requests.get(self.url, params=kwargs)  # Faz a requisição GET na API, passando os parâmetros\n",
    "        return resp  # Retorna a resposta da API\n",
    "\n",
    "    def save_json(self, data):\n",
    "        now = datetime.datetime.now().strftime(\"%Y-%m-%d_%H-%M-%S\")  # Gera um timestamp para nome do arquivo\n",
    "        with open(f\"/dbfs/mnt/jovemnerd/{now}.json\", \"w\") as open_file:  # Define o caminho no DBFS e abre o arquivo para escrita\n",
    "            json.dump(data, open_file)  # Salva os dados no formato JSON\n",
    "\n",
    "    def save_parquet(self, data): \n",
    "        now = datetime.datetime.now().strftime(\"%Y-%m-%d_%H-%M-%S\")  # Gera um timestamp para nome do arquivo\n",
    "        df = pd.DataFrame(data)  # Converte os dados para um DataFrame do Pandas\n",
    "        df.to_parquet(f\"/dbfs/mnt/jovemnerd/{now}.parquet\", index=False)  # Salva os dados no formato Parquet\n",
    "\n",
    "    def save_data(self, data, save_format):\n",
    "        if save_format == 'json':  # Verifica o formato escolhido para salvar os dados\n",
    "            self.save_json(data)  # Salva os dados como JSON\n",
    "        elif save_format == 'parquet':  \n",
    "            self.save_parquet(data)  # Salva os dados como Parquet\n",
    "    \n",
    "    def get_and_save(self, save_format='json', **kwargs):\n",
    "        resp = self.get_content(**kwargs)  # Obtém os dados da API\n",
    "        if resp.status_code == 200:  # Verifica se a requisição foi bem-sucedida\n",
    "            if resp.content:  # Verifica se a resposta não está vazia\n",
    "                data = resp.json()  # Converte a resposta para JSON\n",
    "                self.save_data(data, save_format)  # Salva os dados no formato desejado\n",
    "            else:\n",
    "                data = None\n",
    "                print(\"Resposta vazia da API\")\n",
    "        else:\n",
    "            data = None  # Define data como None em caso de erro na requisição\n",
    "            print(f\"Request sem Sucesso: {resp.status_code}\", resp.text)  # Exibe o código de erro e a resposta da API\n",
    "        return data  # Retorna os dados obtidos ou None em caso de erro\n",
    "    \n",
    "    def auto_exec(self, save_format='json', date_stop='2000-01-01'):\n",
    "        page = 1  # Inicializa a contagem de páginas\n",
    "        while True:\n",
    "            print(page)  # Exibe a página atual no console\n",
    "            data = self.get_and_save(save_format=save_format,\n",
    "                                     page=page,\n",
    "                                     per_page=1000)  # Obtém e salva os dados da API\n",
    "\n",
    "            if data is None:  # Se houver erro na requisição\n",
    "                print(\"Erro ao coletar dados... Aguardando\")  \n",
    "                time.sleep(60 * 5)  # Aguarda 5 minutos antes de tentar novamente\n",
    "\n",
    "            else:\n",
    "                date_last = pd.to_datetime(data[-1]['date'][\"published_at\"]).date()  # Converte a data do último registro para o formato de data\n",
    "                if date_last < pd.to_datetime(date_stop).date():  # Verifica se a data do último registro é menor que a data de parada\n",
    "                    break  # Encerra a coleta de dados\n",
    "                elif len(data) < 1000:\n",
    "                    break\n",
    "                page += 1  # Incrementa a página para continuar a coleta\n",
    "                time.sleep(5)  # Aguarda 5 segundos antes da próxima requisição\n",
    "\n",
    "# Define a URL da API\n",
    "url = \"https://api.jovemnerd.com.br/wp-json/jovemnerd/v1/nerdcasts/\"\n",
    "\n",
    "# Cria uma instância do coletor para coletar episódios do Jovem Nerd\n",
    "collect = Collector(url, \"episodios\")\n",
    "\n",
    "# Executa a coleta automática de dados\n",
    "collect.auto_exec()"
   ]
  },
  {
   "cell_type": "code",
   "execution_count": 0,
   "metadata": {
    "application/vnd.databricks.v1+cell": {
     "cellMetadata": {
      "byteLimit": 2048000,
      "rowLimit": 10000
     },
     "inputWidgets": {},
     "nuid": "78ff7c8b-8763-4fa1-9346-d5b833e26186",
     "showTitle": true,
     "tableResultSettingsMap": {},
     "title": "Criando Diretório DBFS para rodar Save acima"
    }
   },
   "outputs": [],
   "source": [
    "dbutils.fs.mkdirs(\"dbfs:/mnt/jovemnerd\")"
   ]
  },
  {
   "cell_type": "code",
   "execution_count": 0,
   "metadata": {
    "application/vnd.databricks.v1+cell": {
     "cellMetadata": {
      "byteLimit": 2048000,
      "rowLimit": 10000
     },
     "inputWidgets": {},
     "nuid": "af249a0f-7e11-4cf9-919d-695cea482d6e",
     "showTitle": false,
     "tableResultSettingsMap": {},
     "title": ""
    }
   },
   "outputs": [],
   "source": [
    "dbutils.fs.ls(\"dbfs:/mnt/jovemnerd\")"
   ]
  },
  {
   "cell_type": "code",
   "execution_count": 0,
   "metadata": {
    "application/vnd.databricks.v1+cell": {
     "cellMetadata": {
      "byteLimit": 2048000,
      "rowLimit": 10000
     },
     "inputWidgets": {},
     "nuid": "812035ae-cfbc-4636-a153-d896e1682038",
     "showTitle": true,
     "tableResultSettingsMap": {},
     "title": "Lendo Arquivos JovemNerd"
    }
   },
   "outputs": [],
   "source": [
    "df = spark.read.json(\"dbfs:/mnt/jovemnerd/\")\n",
    "\n",
    "display(df)"
   ]
  }
 ],
 "metadata": {
  "application/vnd.databricks.v1+notebook": {
   "computePreferences": null,
   "dashboards": [],
   "environmentMetadata": {
    "base_environment": "",
    "environment_version": "2"
   },
   "language": "python",
   "notebookMetadata": {
    "pythonIndentUnit": 4
   },
   "notebookName": "Ingestão Dados Jovem Nerd - API",
   "widgets": {}
  },
  "language_info": {
   "name": "python"
  }
 },
 "nbformat": 4,
 "nbformat_minor": 0
}
